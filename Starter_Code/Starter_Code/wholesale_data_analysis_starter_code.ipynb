{
 "cells": [
  {
   "cell_type": "markdown",
   "id": "dc0318d6",
   "metadata": {},
   "source": [
    "## Part 1: Explore the Data\n",
    "\n",
    "Import the data and use Pandas to learn more about the dataset."
   ]
  },
  {
   "cell_type": "code",
   "execution_count": 1,
   "id": "e076f57f",
   "metadata": {},
   "outputs": [
    {
     "data": {
      "text/html": [
       "<div>\n",
       "<style scoped>\n",
       "    .dataframe tbody tr th:only-of-type {\n",
       "        vertical-align: middle;\n",
       "    }\n",
       "\n",
       "    .dataframe tbody tr th {\n",
       "        vertical-align: top;\n",
       "    }\n",
       "\n",
       "    .dataframe thead th {\n",
       "        text-align: right;\n",
       "    }\n",
       "</style>\n",
       "<table border=\"1\" class=\"dataframe\">\n",
       "  <thead>\n",
       "    <tr style=\"text-align: right;\">\n",
       "      <th></th>\n",
       "      <th>first</th>\n",
       "      <th>last</th>\n",
       "      <th>job</th>\n",
       "      <th>phone</th>\n",
       "      <th>email</th>\n",
       "      <th>client_id</th>\n",
       "      <th>order_id</th>\n",
       "      <th>order_date</th>\n",
       "      <th>order_week</th>\n",
       "      <th>order_year</th>\n",
       "      <th>item_id</th>\n",
       "      <th>category</th>\n",
       "      <th>subcategory</th>\n",
       "      <th>unit_price</th>\n",
       "      <th>unit_cost</th>\n",
       "      <th>unit_weight</th>\n",
       "      <th>qty</th>\n",
       "      <th>line_number</th>\n",
       "    </tr>\n",
       "  </thead>\n",
       "  <tbody>\n",
       "    <tr>\n",
       "      <th>0</th>\n",
       "      <td>Donald</td>\n",
       "      <td>Harding</td>\n",
       "      <td>Immunologist</td>\n",
       "      <td>793-904-7725x39308</td>\n",
       "      <td>harding.donald.7185@sullivan.com</td>\n",
       "      <td>58515</td>\n",
       "      <td>8953482</td>\n",
       "      <td>2023-04-28</td>\n",
       "      <td>17</td>\n",
       "      <td>2023</td>\n",
       "      <td>EUD29711-63-6U</td>\n",
       "      <td>decor</td>\n",
       "      <td>wall art</td>\n",
       "      <td>1096.80</td>\n",
       "      <td>762.71</td>\n",
       "      <td>7.50</td>\n",
       "      <td>105</td>\n",
       "      <td>1</td>\n",
       "    </tr>\n",
       "    <tr>\n",
       "      <th>1</th>\n",
       "      <td>Tiffany</td>\n",
       "      <td>Myers</td>\n",
       "      <td>Music therapist</td>\n",
       "      <td>201.442.4543x942</td>\n",
       "      <td>myers.t.6537@ferguson-johnson.net</td>\n",
       "      <td>37609</td>\n",
       "      <td>8069089</td>\n",
       "      <td>2023-05-19</td>\n",
       "      <td>20</td>\n",
       "      <td>2023</td>\n",
       "      <td>XDA18116-89-4A</td>\n",
       "      <td>consumables</td>\n",
       "      <td>pens</td>\n",
       "      <td>24.95</td>\n",
       "      <td>15.09</td>\n",
       "      <td>1.49</td>\n",
       "      <td>21</td>\n",
       "      <td>0</td>\n",
       "    </tr>\n",
       "    <tr>\n",
       "      <th>2</th>\n",
       "      <td>Shannon</td>\n",
       "      <td>Watson</td>\n",
       "      <td>Immunologist</td>\n",
       "      <td>687.737.9424x8503</td>\n",
       "      <td>swatson8146@payne.net</td>\n",
       "      <td>57113</td>\n",
       "      <td>1902144</td>\n",
       "      <td>2023-01-29</td>\n",
       "      <td>4</td>\n",
       "      <td>2023</td>\n",
       "      <td>ABE59463-05-7E</td>\n",
       "      <td>software</td>\n",
       "      <td>project management</td>\n",
       "      <td>13.52</td>\n",
       "      <td>7.86</td>\n",
       "      <td>1.68</td>\n",
       "      <td>39</td>\n",
       "      <td>6</td>\n",
       "    </tr>\n",
       "    <tr>\n",
       "      <th>3</th>\n",
       "      <td>Nathan</td>\n",
       "      <td>Baker</td>\n",
       "      <td>Accounting technician</td>\n",
       "      <td>827-788-8123x012</td>\n",
       "      <td>bakernathan@benson.com</td>\n",
       "      <td>46554</td>\n",
       "      <td>9031802</td>\n",
       "      <td>2023-04-25</td>\n",
       "      <td>17</td>\n",
       "      <td>2023</td>\n",
       "      <td>ZMM00836-65-0C</td>\n",
       "      <td>consumables</td>\n",
       "      <td>pens</td>\n",
       "      <td>36.42</td>\n",
       "      <td>24.85</td>\n",
       "      <td>1.23</td>\n",
       "      <td>29</td>\n",
       "      <td>3</td>\n",
       "    </tr>\n",
       "    <tr>\n",
       "      <th>4</th>\n",
       "      <td>Christina</td>\n",
       "      <td>Schwartz</td>\n",
       "      <td>Chiropractor</td>\n",
       "      <td>265-829-3643</td>\n",
       "      <td>christinaschwartz9252@mcconnell.com</td>\n",
       "      <td>92089</td>\n",
       "      <td>1322274</td>\n",
       "      <td>2023-05-28</td>\n",
       "      <td>21</td>\n",
       "      <td>2023</td>\n",
       "      <td>BZX55559-12-3X</td>\n",
       "      <td>consumables</td>\n",
       "      <td>misc</td>\n",
       "      <td>195.10</td>\n",
       "      <td>108.17</td>\n",
       "      <td>46.43</td>\n",
       "      <td>20</td>\n",
       "      <td>1</td>\n",
       "    </tr>\n",
       "  </tbody>\n",
       "</table>\n",
       "</div>"
      ],
      "text/plain": [
       "       first      last                    job               phone  \\\n",
       "0     Donald   Harding           Immunologist  793-904-7725x39308   \n",
       "1    Tiffany     Myers        Music therapist    201.442.4543x942   \n",
       "2    Shannon    Watson           Immunologist   687.737.9424x8503   \n",
       "3     Nathan     Baker  Accounting technician    827-788-8123x012   \n",
       "4  Christina  Schwartz           Chiropractor        265-829-3643   \n",
       "\n",
       "                                 email  client_id  order_id  order_date  \\\n",
       "0     harding.donald.7185@sullivan.com      58515   8953482  2023-04-28   \n",
       "1    myers.t.6537@ferguson-johnson.net      37609   8069089  2023-05-19   \n",
       "2                swatson8146@payne.net      57113   1902144  2023-01-29   \n",
       "3               bakernathan@benson.com      46554   9031802  2023-04-25   \n",
       "4  christinaschwartz9252@mcconnell.com      92089   1322274  2023-05-28   \n",
       "\n",
       "   order_week  order_year         item_id     category         subcategory  \\\n",
       "0          17        2023  EUD29711-63-6U        decor            wall art   \n",
       "1          20        2023  XDA18116-89-4A  consumables                pens   \n",
       "2           4        2023  ABE59463-05-7E     software  project management   \n",
       "3          17        2023  ZMM00836-65-0C  consumables                pens   \n",
       "4          21        2023  BZX55559-12-3X  consumables                misc   \n",
       "\n",
       "   unit_price  unit_cost  unit_weight  qty  line_number  \n",
       "0     1096.80     762.71         7.50  105            1  \n",
       "1       24.95      15.09         1.49   21            0  \n",
       "2       13.52       7.86         1.68   39            6  \n",
       "3       36.42      24.85         1.23   29            3  \n",
       "4      195.10     108.17        46.43   20            1  "
      ]
     },
     "execution_count": 1,
     "metadata": {},
     "output_type": "execute_result"
    }
   ],
   "source": [
    "import pandas as pd\n",
    "\n",
    "df = pd.read_csv('Resources/client_dataset.csv')\n",
    "df.head()"
   ]
  },
  {
   "cell_type": "code",
   "execution_count": 2,
   "id": "71b9bbd2",
   "metadata": {},
   "outputs": [
    {
     "name": "stdout",
     "output_type": "stream",
     "text": [
      "Index(['first', 'last', 'job', 'phone', 'email', 'client_id', 'order_id',\n",
      "       'order_date', 'order_week', 'order_year', 'item_id', 'category',\n",
      "       'subcategory', 'unit_price', 'unit_cost', 'unit_weight', 'qty',\n",
      "       'line_number'],\n",
      "      dtype='object')\n"
     ]
    }
   ],
   "source": [
    "# View the column names in the data\n",
    "column_names = df.columns\n",
    "print(column_names)\n",
    "\n",
    "    #column_names = df.columns.tolist()\n",
    "    #print(column_names)"
   ]
  },
  {
   "cell_type": "code",
   "execution_count": 3,
   "id": "bc0f4172",
   "metadata": {},
   "outputs": [
    {
     "name": "stdout",
     "output_type": "stream",
     "text": [
      "          client_id      order_id    order_week    order_year    unit_price  \\\n",
      "count  54639.000000  5.463900e+04  54639.000000  54639.000000  54639.000000   \n",
      "mean   54837.869416  5.470190e+06     11.359139   2022.993064    136.267207   \n",
      "std    25487.438231  2.599807e+06      7.023499      0.082997    183.873135   \n",
      "min    10033.000000  1.000886e+06      1.000000   2022.000000      0.010000   \n",
      "25%    33593.000000  3.196372e+06      6.000000   2023.000000     20.800000   \n",
      "50%    53305.000000  5.496966e+06     11.000000   2023.000000     68.310000   \n",
      "75%    78498.000000  7.733869e+06     17.000000   2023.000000    173.160000   \n",
      "max    99984.000000  9.998480e+06     52.000000   2023.000000   1396.230000   \n",
      "\n",
      "          unit_cost   unit_weight           qty   line_number  \n",
      "count  54639.000000  54639.000000  5.463900e+04  54639.000000  \n",
      "mean      99.446073      5.004116  5.702646e+02      2.979667  \n",
      "std      133.164267      5.326599  1.879552e+04      2.436320  \n",
      "min        0.010000      0.000000  0.000000e+00      0.000000  \n",
      "25%       14.840000      1.450000  3.200000e+01      1.000000  \n",
      "50%       49.890000      3.240000  6.800000e+01      3.000000  \n",
      "75%      125.570000      6.890000  1.700000e+02      5.000000  \n",
      "max      846.270000     46.430000  3.958244e+06      9.000000  \n"
     ]
    }
   ],
   "source": [
    "# Use the describe function to gather some basic statistics\n",
    "basic_stats = df.describe()\n",
    "print(basic_stats)"
   ]
  },
  {
   "cell_type": "code",
   "execution_count": 4,
   "id": "b24b53cc",
   "metadata": {},
   "outputs": [
    {
     "name": "stdout",
     "output_type": "stream",
     "text": [
      "Number of unique values in each column:\n",
      "first            360\n",
      "last             477\n",
      "job              498\n",
      "phone            999\n",
      "email            999\n",
      "client_id        999\n",
      "order_id       10000\n",
      "order_date       150\n",
      "order_week        23\n",
      "order_year         2\n",
      "item_id          500\n",
      "category           5\n",
      "subcategory       18\n",
      "unit_price       490\n",
      "unit_cost        487\n",
      "unit_weight      393\n",
      "qty             2911\n",
      "line_number       10\n",
      "dtype: int64\n"
     ]
    }
   ],
   "source": [
    "# Use this space to do any additional research\n",
    "# and familiarize yourself with the data.\n",
    "unique_values = df.nunique()\n",
    "print(\"Number of unique values in each column:\")\n",
    "print(unique_values)"
   ]
  },
  {
   "cell_type": "code",
   "execution_count": 5,
   "id": "551cb358",
   "metadata": {},
   "outputs": [
    {
     "name": "stdout",
     "output_type": "stream",
     "text": [
      "Top three item categories with the most entries:\n",
      "category\n",
      "consumables    23538\n",
      "furniture      11915\n",
      "software        8400\n",
      "Name: count, dtype: int64\n"
     ]
    }
   ],
   "source": [
    "# What three item categories had the most entries?\n",
    "# Get the value counts for the 'category' column\n",
    "category_counts = df['category'].value_counts()\n",
    "\n",
    "# Print the three item categories with the most entries\n",
    "top_three_categories = category_counts.head(3)\n",
    "print(\"Top three item categories with the most entries:\")\n",
    "print(top_three_categories)\n"
   ]
  },
  {
   "cell_type": "code",
   "execution_count": 6,
   "id": "5f54e2cf",
   "metadata": {},
   "outputs": [
    {
     "name": "stdout",
     "output_type": "stream",
     "text": [
      "Category with the most entries, consumables,\n",
      "the subcategory with the most entries is bathroom supplies with 6424 entries\n"
     ]
    }
   ],
   "source": [
    "# For the category with the most entries, which subcategory had the most entries?\n",
    "most_common_category = category_counts.idxmax()\n",
    "\n",
    "filtered_df = df[df['category'] == most_common_category]\n",
    "\n",
    "subcategory_counts = filtered_df['subcategory'].value_counts()\n",
    "\n",
    "most_common_subcategory = subcategory_counts.idxmax()\n",
    "most_common_subcategory_count = subcategory_counts.max()\n",
    "\n",
    "print(f\"Category with the most entries, {most_common_category},\")\n",
    "print(f\"the subcategory with the most entries is {most_common_subcategory} with {most_common_subcategory_count} entries\")"
   ]
  },
  {
   "cell_type": "code",
   "execution_count": 7,
   "id": "2db94379",
   "metadata": {},
   "outputs": [
    {
     "name": "stdout",
     "output_type": "stream",
     "text": [
      "Top five clients with the most entries:\n",
      "client_id\n",
      "33615    220\n",
      "66037    211\n",
      "46820    209\n",
      "38378    207\n",
      "24741    207\n",
      "Name: count, dtype: int64\n"
     ]
    }
   ],
   "source": [
    "# Which five clients had the most entries in the data?\n",
    "client_counts = df['client_id'].value_counts()\n",
    "\n",
    "top_five_clients = client_counts.head(5)\n",
    "\n",
    "print(\"Top five clients with the most entries:\")\n",
    "print(top_five_clients)"
   ]
  },
  {
   "cell_type": "code",
   "execution_count": 8,
   "id": "a6635601",
   "metadata": {},
   "outputs": [
    {
     "name": "stdout",
     "output_type": "stream",
     "text": [
      "Top five client IDs with the most entries:\n",
      "[33615, 66037, 46820, 38378, 24741]\n"
     ]
    }
   ],
   "source": [
    "# Store the client ids of those top 5 clients in a list.\n",
    "top_five_client_ids = top_five_clients.index.tolist()\n",
    "\n",
    "print(\"Top five client IDs with the most entries:\")\n",
    "print(top_five_client_ids)"
   ]
  },
  {
   "cell_type": "code",
   "execution_count": 9,
   "id": "c88b8a3e",
   "metadata": {},
   "outputs": [
    {
     "name": "stdout",
     "output_type": "stream",
     "text": [
      "The client with the most entries (client ID: 33615) ordered a total of, 64313.00 units.\n"
     ]
    }
   ],
   "source": [
    "# How many total units (the qty column) did the client with the most entries order order?\n",
    "client_with_most_entries = df['client_id'].value_counts().idxmax()\n",
    "\n",
    "total_units_ordered = df[df['client_id'] == client_with_most_entries]['qty'].sum()\n",
    "\n",
    "print(f\"The client with the most entries (client ID: {client_with_most_entries}) ordered a total of, {total_units_ordered:.2f} units.\")\n"
   ]
  },
  {
   "cell_type": "raw",
   "id": "257fcd7d",
   "metadata": {},
   "source": [
    "## Part 2: Transform the Data\n",
    "Do we know that this client spent the more money than client 66037? If not, how would we find out? Transform the data using the steps below to prepare it for analysis."
   ]
  },
  {
   "cell_type": "code",
   "execution_count": 10,
   "id": "0c25c4a8",
   "metadata": {},
   "outputs": [
    {
     "name": "stdout",
     "output_type": "stream",
     "text": [
      "       first      last                    job               phone  \\\n",
      "0     Donald   Harding           Immunologist  793-904-7725x39308   \n",
      "1    Tiffany     Myers        Music therapist    201.442.4543x942   \n",
      "2    Shannon    Watson           Immunologist   687.737.9424x8503   \n",
      "3     Nathan     Baker  Accounting technician    827-788-8123x012   \n",
      "4  Christina  Schwartz           Chiropractor        265-829-3643   \n",
      "\n",
      "                                 email  client_id  order_id  order_date  \\\n",
      "0     harding.donald.7185@sullivan.com      58515   8953482  2023-04-28   \n",
      "1    myers.t.6537@ferguson-johnson.net      37609   8069089  2023-05-19   \n",
      "2                swatson8146@payne.net      57113   1902144  2023-01-29   \n",
      "3               bakernathan@benson.com      46554   9031802  2023-04-25   \n",
      "4  christinaschwartz9252@mcconnell.com      92089   1322274  2023-05-28   \n",
      "\n",
      "   order_week  order_year         item_id     category         subcategory  \\\n",
      "0          17        2023  EUD29711-63-6U        decor            wall art   \n",
      "1          20        2023  XDA18116-89-4A  consumables                pens   \n",
      "2           4        2023  ABE59463-05-7E     software  project management   \n",
      "3          17        2023  ZMM00836-65-0C  consumables                pens   \n",
      "4          21        2023  BZX55559-12-3X  consumables                misc   \n",
      "\n",
      "   unit_price  unit_cost  unit_weight  qty  line_number   subtotal  \n",
      "0     1096.80     762.71         7.50  105            1  115164.00  \n",
      "1       24.95      15.09         1.49   21            0     523.95  \n",
      "2       13.52       7.86         1.68   39            6     527.28  \n",
      "3       36.42      24.85         1.23   29            3    1056.18  \n",
      "4      195.10     108.17        46.43   20            1    3902.00  \n"
     ]
    }
   ],
   "source": [
    "# Create a column that calculates the subtotal for each line using the unit_price and the qty\n",
    "df['subtotal'] = df['unit_price'] * df['qty']\n",
    "\n",
    "print(df.head())"
   ]
  },
  {
   "cell_type": "code",
   "execution_count": 11,
   "id": "ac9dafc8",
   "metadata": {},
   "outputs": [
    {
     "name": "stdout",
     "output_type": "stream",
     "text": [
      "       first      last                    job               phone  \\\n",
      "0     Donald   Harding           Immunologist  793-904-7725x39308   \n",
      "1    Tiffany     Myers        Music therapist    201.442.4543x942   \n",
      "2    Shannon    Watson           Immunologist   687.737.9424x8503   \n",
      "3     Nathan     Baker  Accounting technician    827-788-8123x012   \n",
      "4  Christina  Schwartz           Chiropractor        265-829-3643   \n",
      "\n",
      "                                 email  client_id  order_id  order_date  \\\n",
      "0     harding.donald.7185@sullivan.com      58515   8953482  2023-04-28   \n",
      "1    myers.t.6537@ferguson-johnson.net      37609   8069089  2023-05-19   \n",
      "2                swatson8146@payne.net      57113   1902144  2023-01-29   \n",
      "3               bakernathan@benson.com      46554   9031802  2023-04-25   \n",
      "4  christinaschwartz9252@mcconnell.com      92089   1322274  2023-05-28   \n",
      "\n",
      "   order_week  order_year  ...         subcategory unit_price unit_cost  \\\n",
      "0          17        2023  ...            wall art    1096.80    762.71   \n",
      "1          20        2023  ...                pens      24.95     15.09   \n",
      "2           4        2023  ...  project management      13.52      7.86   \n",
      "3          17        2023  ...                pens      36.42     24.85   \n",
      "4          21        2023  ...                misc     195.10    108.17   \n",
      "\n",
      "   unit_weight  qty  line_number   subtotal  total_weight  \\\n",
      "0         7.50  105            1  115164.00        787.50   \n",
      "1         1.49   21            0     523.95         31.29   \n",
      "2         1.68   39            6     527.28         65.52   \n",
      "3         1.23   29            3    1056.18         35.67   \n",
      "4        46.43   20            1    3902.00        928.60   \n",
      "\n",
      "   shipping_price_per_pound  total_shipping_price  \n",
      "0                         7               5512.50  \n",
      "1                        10                312.90  \n",
      "2                         7                458.64  \n",
      "3                        10                356.70  \n",
      "4                         7               6500.20  \n",
      "\n",
      "[5 rows x 22 columns]\n"
     ]
    }
   ],
   "source": [
    "# Create a column for shipping price.\n",
    "# Assume a shipping price of $7 per pound for orders over 50 pounds and $10 per pound for items 50 pounds or under.\n",
    "df['total_weight'] = df['unit_weight'] * df['qty']\n",
    "\n",
    "df['shipping_price_per_pound'] = df['total_weight'].apply(lambda x: 7 if x > 50 else 10)\n",
    "\n",
    "df['total_shipping_price'] = df['total_weight'] * df['shipping_price_per_pound']\n",
    "\n",
    "print(df.head())\n"
   ]
  },
  {
   "cell_type": "code",
   "execution_count": 12,
   "id": "77f42c67",
   "metadata": {},
   "outputs": [
    {
     "name": "stdout",
     "output_type": "stream",
     "text": [
      "       first      last                    job               phone  \\\n",
      "0     Donald   Harding           Immunologist  793-904-7725x39308   \n",
      "1    Tiffany     Myers        Music therapist    201.442.4543x942   \n",
      "2    Shannon    Watson           Immunologist   687.737.9424x8503   \n",
      "3     Nathan     Baker  Accounting technician    827-788-8123x012   \n",
      "4  Christina  Schwartz           Chiropractor        265-829-3643   \n",
      "\n",
      "                                 email  client_id  order_id  order_date  \\\n",
      "0     harding.donald.7185@sullivan.com      58515   8953482  2023-04-28   \n",
      "1    myers.t.6537@ferguson-johnson.net      37609   8069089  2023-05-19   \n",
      "2                swatson8146@payne.net      57113   1902144  2023-01-29   \n",
      "3               bakernathan@benson.com      46554   9031802  2023-04-25   \n",
      "4  christinaschwartz9252@mcconnell.com      92089   1322274  2023-05-28   \n",
      "\n",
      "   order_week  order_year  ... unit_price unit_cost unit_weight  qty  \\\n",
      "0          17        2023  ...    1096.80    762.71        7.50  105   \n",
      "1          20        2023  ...      24.95     15.09        1.49   21   \n",
      "2           4        2023  ...      13.52      7.86        1.68   39   \n",
      "3          17        2023  ...      36.42     24.85        1.23   29   \n",
      "4          21        2023  ...     195.10    108.17       46.43   20   \n",
      "\n",
      "   line_number   subtotal  total_weight  shipping_price_per_pound  \\\n",
      "0            1  115164.00        787.50                         7   \n",
      "1            0     523.95         31.29                        10   \n",
      "2            6     527.28         65.52                         7   \n",
      "3            3    1056.18         35.67                        10   \n",
      "4            1    3902.00        928.60                         7   \n",
      "\n",
      "   total_shipping_price    total_price  \n",
      "0               5512.50  131329.170000  \n",
      "1                312.90     885.315375  \n",
      "2                458.64    1034.693400  \n",
      "3                356.70    1510.576650  \n",
      "4               6500.20   10763.135000  \n",
      "\n",
      "[5 rows x 23 columns]\n"
     ]
    }
   ],
   "source": [
    "# Create a column for the total price using the subtotal and the shipping price along with a sales tax of 9.25%\n",
    "sales_tax_rate = 0.0925\n",
    "df['total_price'] = df['subtotal'] + df['total_shipping_price'] + (df['subtotal'] * sales_tax_rate)\n",
    "\n",
    "print(df.head())\n"
   ]
  },
  {
   "cell_type": "code",
   "execution_count": 13,
   "id": "c82ad275",
   "metadata": {},
   "outputs": [
    {
     "name": "stdout",
     "output_type": "stream",
     "text": [
      "       first      last                    job               phone  \\\n",
      "0     Donald   Harding           Immunologist  793-904-7725x39308   \n",
      "1    Tiffany     Myers        Music therapist    201.442.4543x942   \n",
      "2    Shannon    Watson           Immunologist   687.737.9424x8503   \n",
      "3     Nathan     Baker  Accounting technician    827-788-8123x012   \n",
      "4  Christina  Schwartz           Chiropractor        265-829-3643   \n",
      "\n",
      "                                 email  client_id  order_id  order_date  \\\n",
      "0     harding.donald.7185@sullivan.com      58515   8953482  2023-04-28   \n",
      "1    myers.t.6537@ferguson-johnson.net      37609   8069089  2023-05-19   \n",
      "2                swatson8146@payne.net      57113   1902144  2023-01-29   \n",
      "3               bakernathan@benson.com      46554   9031802  2023-04-25   \n",
      "4  christinaschwartz9252@mcconnell.com      92089   1322274  2023-05-28   \n",
      "\n",
      "   order_week  order_year  ... unit_cost unit_weight  qty  line_number  \\\n",
      "0          17        2023  ...    762.71        7.50  105            1   \n",
      "1          20        2023  ...     15.09        1.49   21            0   \n",
      "2           4        2023  ...      7.86        1.68   39            6   \n",
      "3          17        2023  ...     24.85        1.23   29            3   \n",
      "4          21        2023  ...    108.17       46.43   20            1   \n",
      "\n",
      "    subtotal  total_weight  shipping_price_per_pound  total_shipping_price  \\\n",
      "0  115164.00        787.50                         7               5512.50   \n",
      "1     523.95         31.29                        10                312.90   \n",
      "2     527.28         65.52                         7                458.64   \n",
      "3    1056.18         35.67                        10                356.70   \n",
      "4    3902.00        928.60                         7               6500.20   \n",
      "\n",
      "     total_price  line_cost  \n",
      "0  131329.170000   85597.05  \n",
      "1     885.315375     629.79  \n",
      "2    1034.693400     765.18  \n",
      "3    1510.576650    1077.35  \n",
      "4   10763.135000    8663.60  \n",
      "\n",
      "[5 rows x 24 columns]\n"
     ]
    }
   ],
   "source": [
    "# Create a column for the cost of each line using unit cost, qty, and\n",
    "# shipping price (assume the shipping cost is exactly what is charged to the client).\n",
    "df['line_cost'] = df['unit_cost'] * df['qty'] + df['total_shipping_price']\n",
    "\n",
    "print(df.head())"
   ]
  },
  {
   "cell_type": "code",
   "execution_count": 14,
   "id": "e2389018",
   "metadata": {},
   "outputs": [
    {
     "name": "stdout",
     "output_type": "stream",
     "text": [
      "       first      last                    job               phone  \\\n",
      "0     Donald   Harding           Immunologist  793-904-7725x39308   \n",
      "1    Tiffany     Myers        Music therapist    201.442.4543x942   \n",
      "2    Shannon    Watson           Immunologist   687.737.9424x8503   \n",
      "3     Nathan     Baker  Accounting technician    827-788-8123x012   \n",
      "4  Christina  Schwartz           Chiropractor        265-829-3643   \n",
      "\n",
      "                                 email  client_id  order_id  order_date  \\\n",
      "0     harding.donald.7185@sullivan.com      58515   8953482  2023-04-28   \n",
      "1    myers.t.6537@ferguson-johnson.net      37609   8069089  2023-05-19   \n",
      "2                swatson8146@payne.net      57113   1902144  2023-01-29   \n",
      "3               bakernathan@benson.com      46554   9031802  2023-04-25   \n",
      "4  christinaschwartz9252@mcconnell.com      92089   1322274  2023-05-28   \n",
      "\n",
      "   order_week  order_year  ...  qty line_number   subtotal  total_weight  \\\n",
      "0          17        2023  ...  105           1  115164.00        787.50   \n",
      "1          20        2023  ...   21           0     523.95         31.29   \n",
      "2           4        2023  ...   39           6     527.28         65.52   \n",
      "3          17        2023  ...   29           3    1056.18         35.67   \n",
      "4          21        2023  ...   20           1    3902.00        928.60   \n",
      "\n",
      "   shipping_price_per_pound  total_shipping_price    total_price  line_cost  \\\n",
      "0                         7               5512.50  131329.170000   80084.55   \n",
      "1                        10                312.90     885.315375     316.89   \n",
      "2                         7                458.64    1034.693400     306.54   \n",
      "3                        10                356.70    1510.576650     720.65   \n",
      "4                         7               6500.20   10763.135000    2163.40   \n",
      "\n",
      "   line_price  line_profit  \n",
      "0   115164.00     35079.45  \n",
      "1      523.95       207.06  \n",
      "2      527.28       220.74  \n",
      "3     1056.18       335.53  \n",
      "4     3902.00      1738.60  \n",
      "\n",
      "[5 rows x 26 columns]\n"
     ]
    }
   ],
   "source": [
    "# Create a column for the profit of each line using line cost and line price\n",
    "df['line_price'] = df['unit_price'] * df['qty']\n",
    "df['line_cost'] = df['unit_cost'] * df['qty']\n",
    "\n",
    "df['line_profit'] = df['line_price'] - df['line_cost']\n",
    "\n",
    "print(df.head())\n"
   ]
  },
  {
   "cell_type": "markdown",
   "id": "ef6f62b1",
   "metadata": {},
   "source": [
    "## Part 3: Confirm your work\n",
    "You have email receipts showing that the total prices for 3 orders. Confirm that your calculations match the receipts. Remember, each order has multiple lines.\n",
    "\n",
    "Order ID 2742071 had a total price of \\$152,811.89\n",
    "\n",
    "Order ID 2173913 had a total price of \\$162,388.71\n",
    "\n",
    "Order ID 6128929 had a total price of \\$923,441.25\n"
   ]
  },
  {
   "cell_type": "code",
   "execution_count": 15,
   "id": "c0e5d68e",
   "metadata": {},
   "outputs": [],
   "source": [
    "# Check your work using the totals above\n"
   ]
  },
  {
   "cell_type": "markdown",
   "id": "b94d58ab",
   "metadata": {},
   "source": [
    "## Part 4: Summarize and Analyze\n",
    "Use the new columns with confirmed values to find the following information."
   ]
  },
  {
   "cell_type": "code",
   "execution_count": 16,
   "id": "7c005f34",
   "metadata": {},
   "outputs": [
    {
     "name": "stdout",
     "output_type": "stream",
     "text": [
      "Spending for top 5 clients by quantity:\n",
      "client_id\n",
      "33615     5839032.11\n",
      "66037     7995708.38\n",
      "46820     7317356.03\n",
      "38378     8384321.15\n",
      "24741    70176885.25\n",
      "Name: subtotal, dtype: float64\n"
     ]
    }
   ],
   "source": [
    "# How much did each of the top 5 clients by quantity spend? Check your work from Part 1 for client ids.\n",
    "total_spending = df.groupby('client_id')['subtotal'].sum()\n",
    "top_5_clients = df['client_id'].value_counts().head(5).index.tolist()\n",
    "top_5_spending = total_spending.loc[top_5_clients]\n",
    "\n",
    "\n",
    "print(\"Spending for top 5 clients by quantity:\")\n",
    "print(top_5_spending)"
   ]
  },
  {
   "cell_type": "code",
   "execution_count": 46,
   "id": "81b6e4d2",
   "metadata": {},
   "outputs": [
    {
     "name": "stdout",
     "output_type": "stream",
     "text": [
      "           Total Units Purchased  Total Shipping Price  Total Revenue  \\\n",
      "client_id                                                               \n",
      "33615                      64313            1828984.89   8.208127e+06   \n",
      "66037                      43018            1395151.85   1.013046e+07   \n",
      "46820                      75768            1601448.84   9.595660e+06   \n",
      "38378                      73667            3429455.40   1.258933e+07   \n",
      "24741                     239862            5126448.37   8.179470e+07   \n",
      "\n",
      "           Total Profit  \n",
      "client_id                \n",
      "33615        1492703.09  \n",
      "66037        2386377.25  \n",
      "46820        1911613.23  \n",
      "38378        2179055.57  \n",
      "24741       29614433.91  \n"
     ]
    }
   ],
   "source": [
    "# Create a summary DataFrame showing the totals for the for the top 5 clients with the following information:\n",
    "# total units purchased, total shipping price, total revenue, and total profit. \n",
    "summary_df = pd.DataFrame({\n",
    "    'Total Units Purchased': total_units_purchased.loc[top_5_clients],\n",
    "    'Total Shipping Price': total_shipping_price.loc[top_5_clients],\n",
    "    'Total Revenue': total_revenue.loc[top_5_clients],\n",
    "    'Total Profit': total_profit.loc[top_5_clients]\n",
    "})\n",
    "\n",
    "print(summary_df)\n"
   ]
  },
  {
   "cell_type": "code",
   "execution_count": 51,
   "id": "7be02867",
   "metadata": {},
   "outputs": [
    {
     "name": "stdout",
     "output_type": "stream",
     "text": [
      "Column 'Total Shipping Costs (Millions)' does not exist in summary_df.\n",
      "Column 'Total Revenue (Millions)' does not exist in summary_df.\n",
      "Column 'Total Profit (Millions)' does not exist in summary_df.\n",
      "           Total Units Purchased  Total Shipping Costs ($M)  \\\n",
      "client_id                                                     \n",
      "33615                      64313                   1.828985   \n",
      "66037                      43018                   1.395152   \n",
      "46820                      75768                   1.601449   \n",
      "38378                      73667                   3.429455   \n",
      "24741                     239862                   5.126448   \n",
      "\n",
      "           Total Revenue ($M)  Total Profit ($M)  \n",
      "client_id                                         \n",
      "33615                8.208127           1.492703  \n",
      "66037               10.130463           2.386377  \n",
      "46820                9.595660           1.911613  \n",
      "38378               12.589326           2.179056  \n",
      "24741               81.794696          29.614434  \n"
     ]
    }
   ],
   "source": [
    "# Format the data and rename the columns to names suitable for presentation.\n",
    "summary_df.rename(columns={\n",
    "    'Total Units Purchased': 'Total Units Purchased',\n",
    "    'Total Shipping Price': 'Total Shipping Costs (Millions)',\n",
    "    'Total Revenue': 'Total Revenue (Millions)',\n",
    "    'Total Profit': 'Total Profit (Millions)'\n",
    "}, inplace=True)\n",
    "\n",
    "# Define the money columns. \n",
    "money_columns = ['Total Shipping Costs (Millions)', 'Total Revenue (Millions)', 'Total Profit (Millions)']\n",
    "\n",
    "# Define a function that converts a dollar amount to millions.\n",
    "def dollars_to_millions(amount):\n",
    "    return amount / 1_000_000\n",
    "\n",
    "# Apply the currency_format_millions function to only the money columns. \n",
    "money_columns = ['Total Shipping Costs (Millions)', 'Total Revenue (Millions)', 'Total Profit (Millions)']\n",
    "\n",
    "for col in money_columns:\n",
    "    if col not in summary_df.columns:\n",
    "        print(f\"Column '{col}' does not exist in summary_df.\")\n",
    "    else:\n",
    "        summary_df[col] = summary_df[col].apply(dollars_to_millions)\n",
    "\n",
    "# Rename the columns to reflect the change in the money format. \n",
    "new_column_names = {\n",
    "    'Total Shipping Costs (Millions)': 'Total Shipping Costs ($M)',\n",
    "    'Total Revenue (Millions)': 'Total Revenue ($M)',\n",
    "    'Total Profit (Millions)': 'Total Profit ($M)'\n",
    "}\n",
    "\n",
    "summary_df.rename(columns=new_column_names, inplace=True)\n",
    "print(summary_df)\n",
    "\n"
   ]
  },
  {
   "cell_type": "code",
   "execution_count": 52,
   "id": "8ead0986",
   "metadata": {},
   "outputs": [
    {
     "name": "stdout",
     "output_type": "stream",
     "text": [
      "           Total Units Purchased  Total Shipping Costs ($M)  \\\n",
      "client_id                                                     \n",
      "24741                     239862                   5.126448   \n",
      "66037                      43018                   1.395152   \n",
      "38378                      73667                   3.429455   \n",
      "46820                      75768                   1.601449   \n",
      "33615                      64313                   1.828985   \n",
      "\n",
      "           Total Revenue ($M)  Total Profit ($M)  \n",
      "client_id                                         \n",
      "24741               81.794696          29.614434  \n",
      "66037               10.130463           2.386377  \n",
      "38378               12.589326           2.179056  \n",
      "46820                9.595660           1.911613  \n",
      "33615                8.208127           1.492703  \n"
     ]
    }
   ],
   "source": [
    "# Sort the updated data by \"Total Profit (millions)\" form highest to lowest and assign the sort to a new DatFrame.\n",
    "sorted_df = summary_df.sort_values(by='Total Profit ($M)', ascending=False)\n",
    "print(sorted_df)"
   ]
  },
  {
   "cell_type": "code",
   "execution_count": 50,
   "id": "87e0e7f8-b60e-4e50-ab07-c36b6deed513",
   "metadata": {},
   "outputs": [],
   "source": [
    "# client 24741 conducts a majority of this companies business.\n",
    "# This is pretty tough getting the data sorted."
   ]
  },
  {
   "cell_type": "code",
   "execution_count": null,
   "id": "42ccc7da",
   "metadata": {},
   "outputs": [],
   "source": []
  }
 ],
 "metadata": {
  "kernelspec": {
   "display_name": "Python 3 (ipykernel)",
   "language": "python",
   "name": "python3"
  },
  "language_info": {
   "codemirror_mode": {
    "name": "ipython",
    "version": 3
   },
   "file_extension": ".py",
   "mimetype": "text/x-python",
   "name": "python",
   "nbconvert_exporter": "python",
   "pygments_lexer": "ipython3",
   "version": "3.11.7"
  }
 },
 "nbformat": 4,
 "nbformat_minor": 5
}
